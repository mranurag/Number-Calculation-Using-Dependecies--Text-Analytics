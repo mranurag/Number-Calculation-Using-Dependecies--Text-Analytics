{
 "cells": [
  {
   "cell_type": "code",
   "execution_count": 133,
   "metadata": {
    "collapsed": true,
    "deletable": true,
    "editable": true
   },
   "outputs": [],
   "source": [
    "import pandas as pd\n",
    "numberDictionary = {\"a\":1,\"an\":1,\"one\":1,\"two\":2,\"three\":3,\"four\":4,\"five\":5,\"hundred\":100,\"thirteen\":13}\n",
    "DTDictionary = {\"each\":\"mul\",\"together\":\"all\",\"gave\":\"sub\",\"got\":\"add\",\"threw\":\"sub\",\"gives\":\"sub\",\"give\":\"sub\",\"took\":\"sub\"}\n",
    "PRPDictionary = {\"him\":\"he\",\"her\":\"she\",\"them\":\"they\"}\n",
    "verbPresentDictionary = {\"he\":\"is\",\"she\":\"is\",\"I\":\"am\",\"you\":\"are\",\"they\":\"are\"}\n",
    "WordCombDictionary = {\"left\":\"with\"}"
   ]
  },
  {
   "cell_type": "code",
   "execution_count": 137,
   "metadata": {
    "collapsed": false,
    "deletable": true,
    "editable": true
   },
   "outputs": [],
   "source": [
    "\n",
    "def isInt(value):\n",
    "    try:\n",
    "        int(value)\n",
    "        return True\n",
    "    except:\n",
    "        return False    \n",
    "def getFirstNumber(count1,VBList):\n",
    "    final =0\n",
    "    \n",
    "    \n",
    "    if isInt(CDList[0]):\n",
    "        frst = int(CDList[0])\n",
    "    if count1 > 1 :\n",
    "        val = DTDictionary[DTList[0]]\n",
    "        if isInt(CDList[1]):\n",
    "            scnd = int(CDList[1])\n",
    "    if val == 'mul' and VBList[0]=='gave':\n",
    "        final = frst * scnd\n",
    "    elif val == 'mul' and VBList[0]=='took':\n",
    "        final = -(frst * scnd)\n",
    "    elif val == 'all' and VBList[0]=='gave':\n",
    "        final = scnd\n",
    "    elif val == 'all' and VBList[0]=='took':\n",
    "        final = -(scnd)\n",
    "    else:\n",
    "        final = frst\n",
    "   \n",
    "   \n",
    "    return final\n",
    "\n",
    "def getFinalNumber(first,second):\n",
    "    final =0\n",
    "    val = DTDictionary[VBList[0]]\n",
    "    if val == 'sub':\n",
    "       \n",
    "        final = first-second\n",
    "        \n",
    "    if val == 'add':\n",
    "        \n",
    "        final = first+second\n",
    "        \n",
    "    return final\n",
    "\n",
    "def convertListToNumberList(list1,numberDictionary):\n",
    "    list2 =[]\n",
    "    for ls in list1:\n",
    "        if isInt(ls):\n",
    "            ls = int(ls)\n",
    "            list2.append(ls)\n",
    "        else:\n",
    "            if ls in numberDictionary:\n",
    "                \n",
    "                ls = int(numberDictionary[ls])\n",
    "                list2.append(ls)\n",
    "    return list2\n",
    "\n",
    "\n",
    "\n",
    "import collections\n",
    "dic = collections.defaultdict(list)\n",
    "\n",
    "    "
   ]
  },
  {
   "cell_type": "code",
   "execution_count": 138,
   "metadata": {
    "collapsed": true,
    "deletable": true,
    "editable": true
   },
   "outputs": [],
   "source": [
    "# input will be a file parsed by lexParser having the desired tags\n",
    "ParsedString = open('D://CBA//TA//TA Project//sub//BotInput6.txt','r').read()\n"
   ]
  },
  {
   "cell_type": "code",
   "execution_count": 139,
   "metadata": {
    "collapsed": false,
    "deletable": true,
    "editable": true
   },
   "outputs": [
    {
     "name": "stdout",
     "output_type": "stream",
     "text": [
      "Anurag\n",
      "-10\n",
      "apples\n",
      "friends\n"
     ]
    }
   ],
   "source": [
    "splitedText = ParsedString.split(\"ROOT\")\n",
    "\n",
    "newString = splitedText[1]\n",
    "splitedText = newString.split(\"(\")\n",
    "splitedText\n",
    "CDList =[]\n",
    "cdCount =0\n",
    "#gathering all numeric words\n",
    "\n",
    "for word in splitedText:\n",
    "    if word[0:2] =='CD':\n",
    "        newword = word.split(\")\")\n",
    "        newword = newword[0]\n",
    "        newword = newword[3:]\n",
    "        CDList.append(newword)\n",
    "        cdCount += 1\n",
    "\n",
    "#Converting to numbers if some character presentation exists\n",
    "CDListnew= convertListToNumberList(CDList,numberDictionary)\n",
    "CDList=CDListnew\n",
    "\n",
    "#if numric words are more than one, checking for association between them\n",
    "if (cdCount > 1):\n",
    "    \n",
    "    DTList =[]\n",
    "    dtcount =0\n",
    "    for word in splitedText:\n",
    "        if word[0:2] =='DT':\n",
    "            newword = word.split(\")\")\n",
    "            newword = newword[0]\n",
    "            newword = newword[3:]\n",
    "            DTList.append(newword)\n",
    "            dtcount += 1\n",
    "\n",
    "if (cdCount > 0):\n",
    "    \n",
    "    if 'dobj' in ParsedString:\n",
    "        VBList =[]\n",
    "        vbcount =0\n",
    "        splitedText = ParsedString.split(\"dobj\")\n",
    "        newString = splitedText[1]\n",
    "        splitedText = newString.split(\")\")\n",
    "        newString = splitedText[0]\n",
    "        splitedText = newString.split(\" \")\n",
    "        newString = splitedText[0]\n",
    "        splitedText = newString.split(\"-\")\n",
    "        newString = splitedText[0]\n",
    "        newString = newString[1:]\n",
    "        VBList.append(newString)\n",
    "        vbcount += 1\n",
    "    else:\n",
    "        \n",
    "        VBList =[]\n",
    "        vbcount =0\n",
    "        for word in splitedText:\n",
    "            if word[0:3] =='VBD':\n",
    "                newword = word.split(\")\")\n",
    "                newword = newword[0]\n",
    "                newword = newword[4:]\n",
    "                VBList.append(newword)\n",
    "                vbcount += 1\n",
    "\n",
    "if cdCount > 1:\n",
    "    First = getFirstNumber(cdCount,VBList)\n",
    "else:\n",
    "    First = CDList[0]\n",
    "First\n",
    "\n",
    "#geting subject from the string\n",
    "\n",
    "splitedText = ParsedString.split(\"ROOT\")\n",
    "\n",
    "newString = splitedText[1]\n",
    "splitedText = newString.split(\"(\")\n",
    "splitedText\n",
    "TOList =[]\n",
    "blnflag = False\n",
    "subj  = \"\"\n",
    "TOcount1 =0\n",
    "#checking for final subject based  on nmod:to clause if exists\n",
    "for word in splitedText:\n",
    "    if word[0:2] =='TO':\n",
    "        newword = word.split(\")\")\n",
    "        newword = newword[0]\n",
    "        newword = newword[3:]\n",
    "        TOList.append(newword)\n",
    "        TOcount1 += 1\n",
    "if TOcount1 >= 0:\n",
    "    for w in TOList:\n",
    "        if w==\"to\":\n",
    "            blnflag = True\n",
    "\n",
    "\n",
    "\n",
    "if blnflag:\n",
    "    splitedText = ParsedString.split(\"nmod:to\")\n",
    "\n",
    "    newString = splitedText[1]\n",
    "    splitedText = newString.split(\")\")\n",
    "    newString = splitedText[0]\n",
    "    splitedText = newString.split(\" \")\n",
    "    newString = splitedText[1]\n",
    "    splitedText = newString.split(\"-\")\n",
    "    newString = splitedText[0]\n",
    "    subj =  newString\n",
    "\n",
    "else:\n",
    "    splitedText = newString.split(\"(\")\n",
    "    NNPList2 = []\n",
    "    nnpCounter = 0\n",
    "    for word in splitedText:\n",
    "        if word[0:3] =='NNP':\n",
    "            newword = word.split(\")\")\n",
    "            newword = newword[0]\n",
    "            newword = newword[4:]\n",
    "            NNPList2.append(newword)\n",
    "            nnpCounter += 1\n",
    "    if nnpCounter > 1:\n",
    "        subj = NNPList2[1]\n",
    "    else:\n",
    "        subj = NNPList2[0]\n",
    "\n",
    "#getting the object of interest\n",
    "if 'dobj' in ParsedString:\n",
    "    \n",
    "    splitedText = ParsedString.split(\"dobj\")\n",
    "    newString = splitedText[1]\n",
    "    splitedText = newString.split(\")\")\n",
    "    newString = splitedText[0]\n",
    "    splitedText = newString.split(\" \")\n",
    "    newString = splitedText[1]\n",
    "    splitedText = newString.split(\"-\")\n",
    "    newString = splitedText[0]\n",
    "    objc =  newString\n",
    "else:\n",
    "    splitedText = ParsedString.split(\"ROOT\")\n",
    "    newString = splitedText[1]\n",
    "    splitedText = newString.split(\"(\")\n",
    "    NNSList2 = []\n",
    "    for word in splitedText:\n",
    "        if word[0:3] =='NNS':\n",
    "            newword = word.split(\")\")\n",
    "            newword = newword[0]\n",
    "            newword = newword[4:]\n",
    "            NNSList2.append(newword)\n",
    "\n",
    "    objc = NNSList2[0]\n",
    "\n",
    "#Getting subject out\n",
    "\n",
    "splitedText = ParsedString.split(\"nsubj\")\n",
    "newString = splitedText[1]\n",
    "splitedText = newString.split(\")\")\n",
    "newString = splitedText[0]\n",
    "splitedText = newString.split(\" \")\n",
    "newString = splitedText[1]\n",
    "splitedText = newString.split(\"-\")\n",
    "newString = splitedText[0]\n",
    "nsubj =  newString\n",
    "    \n",
    "print (subj)\n",
    "print (First)\n",
    "print (objc)\n",
    "print (nsubj)\n",
    "\n",
    "\n",
    "\n",
    "\n",
    "\n",
    "\n",
    "\n",
    "    \n"
   ]
  },
  {
   "cell_type": "code",
   "execution_count": 143,
   "metadata": {
    "collapsed": false,
    "deletable": true,
    "editable": true
   },
   "outputs": [],
   "source": [
    "blnFail = False\n",
    "if nsubj==subj:\n",
    "    if subj in dic:\n",
    "        dic.pop(subj)\n",
    "        dic[subj].append(First)\n",
    "        dic[subj].append(objc)\n",
    "    else:\n",
    "        dic[subj].append(First)\n",
    "        dic[subj].append(objc)\n",
    "else:\n",
    "    if nsubj in dic:\n",
    "        cnt = dic[nsubj][0]\n",
    "        if First <= cnt:\n",
    "            \n",
    "            newnum = getFinalNumber(cnt,First)\n",
    "            dic.pop(nsubj)\n",
    "            dic[nsubj].append(newnum)\n",
    "            dic[nsubj].append(objc)\n",
    "        else:\n",
    "            blnFail = True\n",
    "            print(nsubj+\" doesn't have enough \"+objc+\" to give.\")\n",
    "    else:\n",
    "        dic[nsubj].append(-(First))\n",
    "        dic[nsubj].append(objc)\n",
    "        \n",
    "    \n",
    "    if subj in dic:\n",
    "            cnt = dic[subj][0]\n",
    "            if not blnFail:\n",
    "                                \n",
    "                newnum = int(cnt+First)\n",
    "                dic.pop(nsubj)\n",
    "                dic[subj].append(newnum)\n",
    "                dic[subj].append(objc)\n",
    "    else:\n",
    "        if not blnFail:\n",
    "            \n",
    "            dic[subj].append(First)\n",
    "            dic[subj].append(objc)   \n",
    "        else:\n",
    "            dic[subj].append(0)\n",
    "            dic[subj].append(objc)\n",
    "    \n",
    "# dic.pop(subj)"
   ]
  },
  {
   "cell_type": "code",
   "execution_count": 1,
   "metadata": {
    "collapsed": false,
    "deletable": true,
    "editable": true
   },
   "outputs": [],
   "source": [
    "print (dic[nsubj][0])\n",
    "print (dic[subj][0])"
   ]
  },
  {
   "cell_type": "code",
   "execution_count": 142,
   "metadata": {
    "collapsed": false,
    "deletable": true,
    "editable": true
   },
   "outputs": [
    {
     "data": {
      "text/plain": [
       "'took'"
      ]
     },
     "execution_count": 142,
     "metadata": {},
     "output_type": "execute_result"
    }
   ],
   "source": [
    "VBList[0]"
   ]
  },
  {
   "cell_type": "code",
   "execution_count": 29,
   "metadata": {
    "collapsed": false,
    "deletable": true,
    "editable": true
   },
   "outputs": [
    {
     "data": {
      "text/plain": [
       "'mul'"
      ]
     },
     "execution_count": 29,
     "metadata": {},
     "output_type": "execute_result"
    }
   ],
   "source": [
    " DTDictionary[DTList[0]]"
   ]
  },
  {
   "cell_type": "code",
   "execution_count": 30,
   "metadata": {
    "collapsed": false,
    "deletable": true,
    "editable": true
   },
   "outputs": [
    {
     "data": {
      "text/plain": [
       "10"
      ]
     },
     "execution_count": 30,
     "metadata": {},
     "output_type": "execute_result"
    }
   ],
   "source": [
    "CDList[1]"
   ]
  },
  {
   "cell_type": "code",
   "execution_count": 33,
   "metadata": {
    "collapsed": false,
    "deletable": true,
    "editable": true
   },
   "outputs": [
    {
     "data": {
      "text/plain": [
       "130"
      ]
     },
     "execution_count": 33,
     "metadata": {},
     "output_type": "execute_result"
    }
   ],
   "source": [
    "CDList[1]*CDList[0]"
   ]
  }
 ],
 "metadata": {
  "kernelspec": {
   "display_name": "Python 2",
   "language": "python",
   "name": "python2"
  },
  "language_info": {
   "codemirror_mode": {
    "name": "ipython",
    "version": 2
   },
   "file_extension": ".py",
   "mimetype": "text/x-python",
   "name": "python",
   "nbconvert_exporter": "python",
   "pygments_lexer": "ipython2",
   "version": "2.7.13"
  }
 },
 "nbformat": 4,
 "nbformat_minor": 2
}
